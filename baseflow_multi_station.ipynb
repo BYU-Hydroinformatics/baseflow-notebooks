{
  "nbformat": 4,
  "nbformat_minor": 0,
  "metadata": {
    "colab": {
      "provenance": [],
      "collapsed_sections": [
        "rZ_IYbnOzL6X",
        "Qen6w-YizX8O",
        "_dUn-kEa1olS"
      ],
      "toc_visible": true,
      "include_colab_link": true
    },
    "kernelspec": {
      "name": "python3",
      "display_name": "Python 3"
    },
    "language_info": {
      "name": "python"
    }
  },
  "cells": [
    {
      "cell_type": "markdown",
      "metadata": {
        "id": "view-in-github",
        "colab_type": "text"
      },
      "source": [
        "<a href=\"https://colab.research.google.com/github/BYU-Hydroinformatics/baseflow-notebooks/blob/main/baseflow_multi_station.ipynb\" target=\"_parent\"><img src=\"https://colab.research.google.com/assets/colab-badge.svg\" alt=\"Open In Colab\"/></a>"
      ]
    },
    {
      "cell_type": "markdown",
      "source": [
        "***In this notebook, we will demonstrate how to use the baseflow package to perform baseflow separation on streamflow data obtained from multiple stations.***\n",
        "\n",
        "Workflow:\n",
        " * Data Acquisition: Fetch streamflow data from the USGS API or upload your own data files.\n",
        " * Data Preparation: Prepare the data for analysis, including converting timestamps and handling missing values.\n",
        " * Baseflow Separation: Apply various baseflow separation methods provided by the baseflow package to each station's data.\n",
        " * Result Analysis: Visualize the separated baseflow components and calculate performance metrics for each station.\n",
        "\n",
        "***By the end of this notebook, you will have a comprehensive understanding of how to perform baseflow separation for multiple stations using the baseflow package and analyze the results effectively.***"
      ],
      "metadata": {
        "id": "vR9jkDClwpKz"
      }
    },
    {
      "cell_type": "markdown",
      "source": [
        "# Install baseflow package from github"
      ],
      "metadata": {
        "id": "rZ_IYbnOzL6X"
      }
    },
    {
      "cell_type": "code",
      "source": [
        "!pip install git+https://github.com/BYU-Hydroinformatics/baseflow.git"
      ],
      "metadata": {
        "colab": {
          "base_uri": "https://localhost:8080/"
        },
        "id": "YVfu-_6IzK-6",
        "outputId": "fc9a6925-e40f-4570-8a8c-579590066a4f"
      },
      "execution_count": null,
      "outputs": [
        {
          "output_type": "stream",
          "name": "stdout",
          "text": [
            "Collecting git+https://github.com/BYU-Hydroinformatics/baseflow.git\n",
            "  Cloning https://github.com/BYU-Hydroinformatics/baseflow.git to /tmp/pip-req-build-9zl6zhwu\n",
            "  Running command git clone --filter=blob:none --quiet https://github.com/BYU-Hydroinformatics/baseflow.git /tmp/pip-req-build-9zl6zhwu\n",
            "  Resolved https://github.com/BYU-Hydroinformatics/baseflow.git to commit 50a60ee97f9132f06a30b454ab0d8c5eb4dab97d\n",
            "  Preparing metadata (setup.py) ... \u001b[?25l\u001b[?25hdone\n",
            "Requirement already satisfied: numpy in /usr/local/lib/python3.10/dist-packages (from baseflow==0.0.9) (1.26.4)\n",
            "Requirement already satisfied: numba in /usr/local/lib/python3.10/dist-packages (from baseflow==0.0.9) (0.60.0)\n",
            "Requirement already satisfied: tqdm in /usr/local/lib/python3.10/dist-packages (from baseflow==0.0.9) (4.66.5)\n",
            "Requirement already satisfied: pandas in /usr/local/lib/python3.10/dist-packages (from baseflow==0.0.9) (2.1.4)\n",
            "Requirement already satisfied: llvmlite<0.44,>=0.43.0dev0 in /usr/local/lib/python3.10/dist-packages (from numba->baseflow==0.0.9) (0.43.0)\n",
            "Requirement already satisfied: python-dateutil>=2.8.2 in /usr/local/lib/python3.10/dist-packages (from pandas->baseflow==0.0.9) (2.8.2)\n",
            "Requirement already satisfied: pytz>=2020.1 in /usr/local/lib/python3.10/dist-packages (from pandas->baseflow==0.0.9) (2024.1)\n",
            "Requirement already satisfied: tzdata>=2022.1 in /usr/local/lib/python3.10/dist-packages (from pandas->baseflow==0.0.9) (2024.1)\n",
            "Requirement already satisfied: six>=1.5 in /usr/local/lib/python3.10/dist-packages (from python-dateutil>=2.8.2->pandas->baseflow==0.0.9) (1.16.0)\n",
            "Building wheels for collected packages: baseflow\n",
            "  Building wheel for baseflow (setup.py) ... \u001b[?25l\u001b[?25hdone\n",
            "  Created wheel for baseflow: filename=baseflow-0.0.9-py3-none-any.whl size=101938 sha256=89673cd03703dc5af9307430df6986786f91c12b7195fdc8686f3aba3b675008\n",
            "  Stored in directory: /tmp/pip-ephem-wheel-cache-_8w63oda/wheels/f4/6d/fe/c937a4db1017b5070652dfe2b4841589a4aca8cff895ae4abe\n",
            "Successfully built baseflow\n",
            "Installing collected packages: baseflow\n",
            "Successfully installed baseflow-0.0.9\n"
          ]
        }
      ]
    },
    {
      "cell_type": "markdown",
      "source": [
        "# Load necessary packages"
      ],
      "metadata": {
        "id": "Qen6w-YizX8O"
      }
    },
    {
      "cell_type": "code",
      "source": [
        "import baseflow\n",
        "import pandas as pd\n",
        "import matplotlib.pyplot as plt\n",
        "import plotly.graph_objs as go\n",
        "import urllib.parse\n",
        "import urllib.request\n",
        "import os\n",
        "import numpy as np\n",
        "from numba import njit, prange"
      ],
      "metadata": {
        "id": "P0mheWB3zYhd"
      },
      "execution_count": null,
      "outputs": []
    },
    {
      "cell_type": "markdown",
      "source": [
        "# Download flow data from USGS\n",
        "\n",
        "This part of the code essentially automates the process of fetching streamflow data for a specific station and time period from the USGS website. It prepares the data for further processing and analysis in the subsequent steps of your notebook.\n",
        "\n",
        "This part includes:\n",
        "\n",
        "*   Specify Parameters: You define the station_number, start_date, and end_date to customize the data retrieval.\n",
        "\n",
        "*   Construct URL: The code constructs the URL for the USGS API request by concatenating different sections. Each section contains specific parameters and filters for the data you want.\n",
        "\n",
        "*   Retrieve Data: The urllib.request.urlopen(link) function sends a request to the constructed URL and retrieves the data from the USGS website.\n",
        "\n",
        "*   Decode and Split: The retrieved data is decoded from bytes to a string using .decode(), and then split into lines using .split('\\n').\n",
        "\n",
        "*   Extract Station Name: The code iterates through the lines and extracts the station name from the line starting with \"# USGS\"."
      ],
      "metadata": {
        "id": "0npVdG-GzDY9"
      }
    },
    {
      "cell_type": "markdown",
      "source": [
        "### Specify station number and dates\n",
        "\n",
        "In this section, you need to type the single streamflow station number, start date and end date of the time period.\n",
        "\n",
        "You can find stations on USGS website: https://dashboard.waterdata.usgs.gov/app/nwd/en/"
      ],
      "metadata": {
        "id": "8Uz9KqjjW1qE"
      }
    },
    {
      "cell_type": "code",
      "execution_count": null,
      "metadata": {
        "id": "bvAESCEtv24P"
      },
      "outputs": [],
      "source": [
        "station_number = '01636500'\n",
        "start_date = '2000-01-01' # (YYYY-MM-DD)\n",
        "end_date = '2022-12-31' # (YYYY-MM-DD)\n",
        "folder = os.getcwd()"
      ]
    },
    {
      "cell_type": "markdown",
      "source": [
        "### Scrape USGS Website\n",
        "\n",
        "Run this cell and it will return this link corresponding to your input. Open the link and check the site number, name, date, etc."
      ],
      "metadata": {
        "id": "xFknRV7IW7kJ"
      }
    },
    {
      "cell_type": "code",
      "source": [
        "section1 = 'https://nwis.waterdata.usgs.gov/nwis/dv?referred_module=sw&search_site_no='\n",
        "section2 = '&search_site_no_match_type=exact&site_tp_cd=OC&site_tp_cd=OC-CO&site_tp_cd=ES&site_tp_cd='\\\n",
        "'LK&site_tp_cd=ST&site_tp_cd=ST-CA&site_tp_cd=ST-DCH&site_tp_cd=ST-TS&index_pmcode_00060=1&group_key='\\\n",
        "'NONE&sitefile_output_format=html_table&column_name=agency_cd&column_name=site_no&column_name=station_nm&range_selection=date_range&begin_date='\n",
        "section3 = '&end_date='\n",
        "section4 = '&format=rdb&date_format=YYYY-MM-DD&rdb_compression=value&list_of_search_criteria=search_site_no%2Csite_tp_cd%2Crealtime_parameter_selection'\n",
        "\n",
        "link = (section1 + station_number + section2 + start_date + section3 + end_date + section4)\n",
        "print(\"Click here to see the generated USGS link: \\n\",link)\n",
        "\n",
        "USGS_page = urllib.request.urlopen(link)\n",
        "downloaded_data = USGS_page.read()\n",
        "str_data = downloaded_data.decode()\n",
        "f_str_data = str_data.split('\\n')\n",
        "station_name = ''\n",
        "\n",
        "for line in range(len(f_str_data)):\n",
        "    if f_str_data[line].startswith(\"#    USGS\"):\n",
        "        station_name=f_str_data[line][3:]\n",
        "print(station_name)\n"
      ],
      "metadata": {
        "colab": {
          "base_uri": "https://localhost:8080/"
        },
        "id": "QJ0cb1R2XDi-",
        "outputId": "2098412c-0440-43a4-d550-4c24e5aa198d"
      },
      "execution_count": null,
      "outputs": [
        {
          "output_type": "stream",
          "name": "stdout",
          "text": [
            "Click here to see the generated USGS link: \n",
            " https://nwis.waterdata.usgs.gov/nwis/dv?referred_module=sw&search_site_no=01636500&search_site_no_match_type=exact&site_tp_cd=OC&site_tp_cd=OC-CO&site_tp_cd=ES&site_tp_cd=LK&site_tp_cd=ST&site_tp_cd=ST-CA&site_tp_cd=ST-DCH&site_tp_cd=ST-TS&index_pmcode_00060=1&group_key=NONE&sitefile_output_format=html_table&column_name=agency_cd&column_name=site_no&column_name=station_nm&range_selection=date_range&begin_date=2000-01-01&end_date=2022-12-31&format=rdb&date_format=YYYY-MM-DD&rdb_compression=value&list_of_search_criteria=search_site_no%2Csite_tp_cd%2Crealtime_parameter_selection\n",
            "  USGS 01636500 SHENANDOAH RIVER AT MILLVILLE, WV\n"
          ]
        }
      ]
    },
    {
      "cell_type": "markdown",
      "source": [
        "### Format data\n",
        "As you have got the link to the station, this block can make the information on the page into a DataFrame with date and streamflow."
      ],
      "metadata": {
        "id": "YVng8AE5XhtG"
      }
    },
    {
      "cell_type": "code",
      "source": [
        "date_flow = ''\n",
        "\n",
        "for line in range(len(f_str_data)):\n",
        "    if f_str_data[line].startswith(\"USGS\"):\n",
        "        data = f_str_data[line][14:]\n",
        "        columns = data.split('\\t')\n",
        "        rows = ','.join([columns[0],(columns[1])])\n",
        "        date_flow += rows + '\\n'\n",
        "date_flow = date_flow.encode()\n",
        "\n",
        "with open(folder+'/USGS_Data_for_' + station_number  + '.txt', 'wb') as text:\n",
        "        text.write(date_flow)\n",
        "\n",
        "filename = folder+'/USGS_Data_for_' + station_number  + '.txt'\n",
        "columns = ['Date','Discharge (cfs)']\n",
        "df = pd.read_csv(filename,header=None,names=columns,parse_dates=[0])\n",
        "df=df.set_index(['Date'])\n",
        "df['Discharge (cfs)']=pd.to_numeric(df['Discharge (cfs)'], errors='coerce')\n",
        "df.tail()"
      ],
      "metadata": {
        "colab": {
          "base_uri": "https://localhost:8080/",
          "height": 238
        },
        "id": "YIc3DeWnXhYR",
        "outputId": "5b434ac7-eda2-4453-af3f-a13659d92a18"
      },
      "execution_count": null,
      "outputs": [
        {
          "output_type": "execute_result",
          "data": {
            "text/plain": [
              "            Discharge (cfs)\n",
              "Date                       \n",
              "2022-12-27             4700\n",
              "2022-12-28             3790\n",
              "2022-12-29             3230\n",
              "2022-12-30             2880\n",
              "2022-12-31             2630"
            ],
            "text/html": [
              "\n",
              "  <div id=\"df-de274a21-4008-437d-bd18-50ba69b94f0f\" class=\"colab-df-container\">\n",
              "    <div>\n",
              "<style scoped>\n",
              "    .dataframe tbody tr th:only-of-type {\n",
              "        vertical-align: middle;\n",
              "    }\n",
              "\n",
              "    .dataframe tbody tr th {\n",
              "        vertical-align: top;\n",
              "    }\n",
              "\n",
              "    .dataframe thead th {\n",
              "        text-align: right;\n",
              "    }\n",
              "</style>\n",
              "<table border=\"1\" class=\"dataframe\">\n",
              "  <thead>\n",
              "    <tr style=\"text-align: right;\">\n",
              "      <th></th>\n",
              "      <th>Discharge (cfs)</th>\n",
              "    </tr>\n",
              "    <tr>\n",
              "      <th>Date</th>\n",
              "      <th></th>\n",
              "    </tr>\n",
              "  </thead>\n",
              "  <tbody>\n",
              "    <tr>\n",
              "      <th>2022-12-27</th>\n",
              "      <td>4700</td>\n",
              "    </tr>\n",
              "    <tr>\n",
              "      <th>2022-12-28</th>\n",
              "      <td>3790</td>\n",
              "    </tr>\n",
              "    <tr>\n",
              "      <th>2022-12-29</th>\n",
              "      <td>3230</td>\n",
              "    </tr>\n",
              "    <tr>\n",
              "      <th>2022-12-30</th>\n",
              "      <td>2880</td>\n",
              "    </tr>\n",
              "    <tr>\n",
              "      <th>2022-12-31</th>\n",
              "      <td>2630</td>\n",
              "    </tr>\n",
              "  </tbody>\n",
              "</table>\n",
              "</div>\n",
              "    <div class=\"colab-df-buttons\">\n",
              "\n",
              "  <div class=\"colab-df-container\">\n",
              "    <button class=\"colab-df-convert\" onclick=\"convertToInteractive('df-de274a21-4008-437d-bd18-50ba69b94f0f')\"\n",
              "            title=\"Convert this dataframe to an interactive table.\"\n",
              "            style=\"display:none;\">\n",
              "\n",
              "  <svg xmlns=\"http://www.w3.org/2000/svg\" height=\"24px\" viewBox=\"0 -960 960 960\">\n",
              "    <path d=\"M120-120v-720h720v720H120Zm60-500h600v-160H180v160Zm220 220h160v-160H400v160Zm0 220h160v-160H400v160ZM180-400h160v-160H180v160Zm440 0h160v-160H620v160ZM180-180h160v-160H180v160Zm440 0h160v-160H620v160Z\"/>\n",
              "  </svg>\n",
              "    </button>\n",
              "\n",
              "  <style>\n",
              "    .colab-df-container {\n",
              "      display:flex;\n",
              "      gap: 12px;\n",
              "    }\n",
              "\n",
              "    .colab-df-convert {\n",
              "      background-color: #E8F0FE;\n",
              "      border: none;\n",
              "      border-radius: 50%;\n",
              "      cursor: pointer;\n",
              "      display: none;\n",
              "      fill: #1967D2;\n",
              "      height: 32px;\n",
              "      padding: 0 0 0 0;\n",
              "      width: 32px;\n",
              "    }\n",
              "\n",
              "    .colab-df-convert:hover {\n",
              "      background-color: #E2EBFA;\n",
              "      box-shadow: 0px 1px 2px rgba(60, 64, 67, 0.3), 0px 1px 3px 1px rgba(60, 64, 67, 0.15);\n",
              "      fill: #174EA6;\n",
              "    }\n",
              "\n",
              "    .colab-df-buttons div {\n",
              "      margin-bottom: 4px;\n",
              "    }\n",
              "\n",
              "    [theme=dark] .colab-df-convert {\n",
              "      background-color: #3B4455;\n",
              "      fill: #D2E3FC;\n",
              "    }\n",
              "\n",
              "    [theme=dark] .colab-df-convert:hover {\n",
              "      background-color: #434B5C;\n",
              "      box-shadow: 0px 1px 3px 1px rgba(0, 0, 0, 0.15);\n",
              "      filter: drop-shadow(0px 1px 2px rgba(0, 0, 0, 0.3));\n",
              "      fill: #FFFFFF;\n",
              "    }\n",
              "  </style>\n",
              "\n",
              "    <script>\n",
              "      const buttonEl =\n",
              "        document.querySelector('#df-de274a21-4008-437d-bd18-50ba69b94f0f button.colab-df-convert');\n",
              "      buttonEl.style.display =\n",
              "        google.colab.kernel.accessAllowed ? 'block' : 'none';\n",
              "\n",
              "      async function convertToInteractive(key) {\n",
              "        const element = document.querySelector('#df-de274a21-4008-437d-bd18-50ba69b94f0f');\n",
              "        const dataTable =\n",
              "          await google.colab.kernel.invokeFunction('convertToInteractive',\n",
              "                                                    [key], {});\n",
              "        if (!dataTable) return;\n",
              "\n",
              "        const docLinkHtml = 'Like what you see? Visit the ' +\n",
              "          '<a target=\"_blank\" href=https://colab.research.google.com/notebooks/data_table.ipynb>data table notebook</a>'\n",
              "          + ' to learn more about interactive tables.';\n",
              "        element.innerHTML = '';\n",
              "        dataTable['output_type'] = 'display_data';\n",
              "        await google.colab.output.renderOutput(dataTable, element);\n",
              "        const docLink = document.createElement('div');\n",
              "        docLink.innerHTML = docLinkHtml;\n",
              "        element.appendChild(docLink);\n",
              "      }\n",
              "    </script>\n",
              "  </div>\n",
              "\n",
              "\n",
              "<div id=\"df-3c099bd4-1c97-48d1-841a-35794018c06e\">\n",
              "  <button class=\"colab-df-quickchart\" onclick=\"quickchart('df-3c099bd4-1c97-48d1-841a-35794018c06e')\"\n",
              "            title=\"Suggest charts\"\n",
              "            style=\"display:none;\">\n",
              "\n",
              "<svg xmlns=\"http://www.w3.org/2000/svg\" height=\"24px\"viewBox=\"0 0 24 24\"\n",
              "     width=\"24px\">\n",
              "    <g>\n",
              "        <path d=\"M19 3H5c-1.1 0-2 .9-2 2v14c0 1.1.9 2 2 2h14c1.1 0 2-.9 2-2V5c0-1.1-.9-2-2-2zM9 17H7v-7h2v7zm4 0h-2V7h2v10zm4 0h-2v-4h2v4z\"/>\n",
              "    </g>\n",
              "</svg>\n",
              "  </button>\n",
              "\n",
              "<style>\n",
              "  .colab-df-quickchart {\n",
              "      --bg-color: #E8F0FE;\n",
              "      --fill-color: #1967D2;\n",
              "      --hover-bg-color: #E2EBFA;\n",
              "      --hover-fill-color: #174EA6;\n",
              "      --disabled-fill-color: #AAA;\n",
              "      --disabled-bg-color: #DDD;\n",
              "  }\n",
              "\n",
              "  [theme=dark] .colab-df-quickchart {\n",
              "      --bg-color: #3B4455;\n",
              "      --fill-color: #D2E3FC;\n",
              "      --hover-bg-color: #434B5C;\n",
              "      --hover-fill-color: #FFFFFF;\n",
              "      --disabled-bg-color: #3B4455;\n",
              "      --disabled-fill-color: #666;\n",
              "  }\n",
              "\n",
              "  .colab-df-quickchart {\n",
              "    background-color: var(--bg-color);\n",
              "    border: none;\n",
              "    border-radius: 50%;\n",
              "    cursor: pointer;\n",
              "    display: none;\n",
              "    fill: var(--fill-color);\n",
              "    height: 32px;\n",
              "    padding: 0;\n",
              "    width: 32px;\n",
              "  }\n",
              "\n",
              "  .colab-df-quickchart:hover {\n",
              "    background-color: var(--hover-bg-color);\n",
              "    box-shadow: 0 1px 2px rgba(60, 64, 67, 0.3), 0 1px 3px 1px rgba(60, 64, 67, 0.15);\n",
              "    fill: var(--button-hover-fill-color);\n",
              "  }\n",
              "\n",
              "  .colab-df-quickchart-complete:disabled,\n",
              "  .colab-df-quickchart-complete:disabled:hover {\n",
              "    background-color: var(--disabled-bg-color);\n",
              "    fill: var(--disabled-fill-color);\n",
              "    box-shadow: none;\n",
              "  }\n",
              "\n",
              "  .colab-df-spinner {\n",
              "    border: 2px solid var(--fill-color);\n",
              "    border-color: transparent;\n",
              "    border-bottom-color: var(--fill-color);\n",
              "    animation:\n",
              "      spin 1s steps(1) infinite;\n",
              "  }\n",
              "\n",
              "  @keyframes spin {\n",
              "    0% {\n",
              "      border-color: transparent;\n",
              "      border-bottom-color: var(--fill-color);\n",
              "      border-left-color: var(--fill-color);\n",
              "    }\n",
              "    20% {\n",
              "      border-color: transparent;\n",
              "      border-left-color: var(--fill-color);\n",
              "      border-top-color: var(--fill-color);\n",
              "    }\n",
              "    30% {\n",
              "      border-color: transparent;\n",
              "      border-left-color: var(--fill-color);\n",
              "      border-top-color: var(--fill-color);\n",
              "      border-right-color: var(--fill-color);\n",
              "    }\n",
              "    40% {\n",
              "      border-color: transparent;\n",
              "      border-right-color: var(--fill-color);\n",
              "      border-top-color: var(--fill-color);\n",
              "    }\n",
              "    60% {\n",
              "      border-color: transparent;\n",
              "      border-right-color: var(--fill-color);\n",
              "    }\n",
              "    80% {\n",
              "      border-color: transparent;\n",
              "      border-right-color: var(--fill-color);\n",
              "      border-bottom-color: var(--fill-color);\n",
              "    }\n",
              "    90% {\n",
              "      border-color: transparent;\n",
              "      border-bottom-color: var(--fill-color);\n",
              "    }\n",
              "  }\n",
              "</style>\n",
              "\n",
              "  <script>\n",
              "    async function quickchart(key) {\n",
              "      const quickchartButtonEl =\n",
              "        document.querySelector('#' + key + ' button');\n",
              "      quickchartButtonEl.disabled = true;  // To prevent multiple clicks.\n",
              "      quickchartButtonEl.classList.add('colab-df-spinner');\n",
              "      try {\n",
              "        const charts = await google.colab.kernel.invokeFunction(\n",
              "            'suggestCharts', [key], {});\n",
              "      } catch (error) {\n",
              "        console.error('Error during call to suggestCharts:', error);\n",
              "      }\n",
              "      quickchartButtonEl.classList.remove('colab-df-spinner');\n",
              "      quickchartButtonEl.classList.add('colab-df-quickchart-complete');\n",
              "    }\n",
              "    (() => {\n",
              "      let quickchartButtonEl =\n",
              "        document.querySelector('#df-3c099bd4-1c97-48d1-841a-35794018c06e button');\n",
              "      quickchartButtonEl.style.display =\n",
              "        google.colab.kernel.accessAllowed ? 'block' : 'none';\n",
              "    })();\n",
              "  </script>\n",
              "</div>\n",
              "\n",
              "    </div>\n",
              "  </div>\n"
            ],
            "application/vnd.google.colaboratory.intrinsic+json": {
              "type": "dataframe",
              "summary": "{\n  \"name\": \"df\",\n  \"rows\": 5,\n  \"fields\": [\n    {\n      \"column\": \"Date\",\n      \"properties\": {\n        \"dtype\": \"date\",\n        \"min\": \"2022-12-27 00:00:00\",\n        \"max\": \"2022-12-31 00:00:00\",\n        \"num_unique_values\": 5,\n        \"samples\": [\n          \"2022-12-28 00:00:00\",\n          \"2022-12-31 00:00:00\",\n          \"2022-12-29 00:00:00\"\n        ],\n        \"semantic_type\": \"\",\n        \"description\": \"\"\n      }\n    },\n    {\n      \"column\": \"Discharge (cfs)\",\n      \"properties\": {\n        \"dtype\": \"number\",\n        \"std\": 825,\n        \"min\": 2630,\n        \"max\": 4700,\n        \"num_unique_values\": 5,\n        \"samples\": [\n          3790,\n          2630,\n          3230\n        ],\n        \"semantic_type\": \"\",\n        \"description\": \"\"\n      }\n    }\n  ]\n}"
            }
          },
          "metadata": {},
          "execution_count": 5
        }
      ]
    },
    {
      "cell_type": "markdown",
      "source": [
        "# Helper fuctions\n",
        "\n",
        "We created a function called multi_station and the main purpose of this is to separate the baseflow for multiple stations using different methods and optionally calculate performance metrics like Baseflow Index (BFI) and Kling-Gupta Efficiency (KGE)."
      ],
      "metadata": {
        "id": "_dUn-kEa1olS"
      }
    },
    {
      "cell_type": "code",
      "source": [
        "def multi_station(df, df_sta=None, method='all', return_bfi=False, return_kge=False):\n",
        "    # baseflow separation worker for single station\n",
        "    def sep_work(s):\n",
        "        try:\n",
        "            # read area, longitude, latitude from df_sta\n",
        "            area, ice = None, None\n",
        "            to_num = lambda col: (pd.to_numeric(df_sta.loc[s, col], errors='coerce')\n",
        "                                  if (df_sta is not None) and (col in df_sta.columns) else np.nan)\n",
        "            if np.isfinite(to_num('area')):\n",
        "                area = to_num('area')\n",
        "            if np.isfinite(to_num('lon')):\n",
        "                c, r = geo2imagexy(to_num('lon'), to_num('lat'))\n",
        "                # ice = ~thawed[:, r, c]\n",
        "                ice = ([11, 1], [3, 31]) if ice.all() else ice\n",
        "            # separate baseflow for station S\n",
        "            b, KGEs = single(df[s], ice=ice, area=area, method=method, return_kge=return_kge)\n",
        "            # write into already created dataframe\n",
        "            for m in method:\n",
        "                dfs[m].loc[b.index, s] = b[m]\n",
        "            if return_bfi:\n",
        "                df_bfi.loc[s] = b.sum() / df.loc[b.index, s].abs().sum()\n",
        "            if return_kge:\n",
        "                df_kge.loc[s] = KGEs\n",
        "        except BaseException:\n",
        "            pass\n",
        "\n",
        "    # convert index to datetime\n",
        "    if not isinstance(df.index, pd.DatetimeIndex):\n",
        "        df.index = pd.to_datetime(df.index)\n",
        "\n",
        "    # # thawed months from https://doi.org/10.5194/essd-9-133-2017\n",
        "    # with np.load(Path(__file__).parent / 'thawed.npz') as f:\n",
        "    #     thawed = f['thawed']\n",
        "\n",
        "    # create df to store baseflow\n",
        "    method = format_method(method)\n",
        "    dfs = {m: pd.DataFrame(np.nan, index=df.index, columns=df.columns, dtype=float)\n",
        "           for m in method}\n",
        "\n",
        "    # create df to store BFI and KGE\n",
        "    if return_bfi:\n",
        "        df_bfi = pd.DataFrame(np.nan, index=df.columns, columns=method, dtype=float)\n",
        "    if return_kge:\n",
        "        df_kge = pd.DataFrame(np.nan, index=df.columns, columns=method, dtype=float)\n",
        "\n",
        "    # run separation for each column\n",
        "    for s in tqdm(df.columns, total=df.shape[1]):\n",
        "        sep_work(s)\n",
        "\n",
        "    # return result\n",
        "    if return_bfi and return_kge:\n",
        "        return dfs, df_bfi, df_kge\n",
        "    if return_bfi and not return_kge:\n",
        "        return dfs, df_bfi\n",
        "    if not return_bfi and return_kge:\n",
        "        return dfs, df_kge\n",
        "    return dfs"
      ],
      "metadata": {
        "id": "19xbSBGAtvPY"
      },
      "execution_count": null,
      "outputs": []
    },
    {
      "cell_type": "markdown",
      "source": [
        "# Calculate baseflow at multiple stations\n",
        "In this example, we use the data from the USGS API as input. You can also upload your own file to the side bar by clicking the 'Files' button."
      ],
      "metadata": {
        "id": "k8AJRZId5RjM"
      }
    },
    {
      "cell_type": "code",
      "source": [
        "# Example station IDs and date range\n",
        "station_ids = ['station_1', 'station_2', 'station_3']\n",
        "start_date = '2023-01-01'\n",
        "end_date = '2023-12-31'\n",
        "\n",
        "# Fetch the data\n",
        "df = fetch_usgs_data(station_ids, start_date, end_date)\n"
      ],
      "metadata": {
        "id": "kwX0EiX6Bt8I"
      },
      "execution_count": null,
      "outputs": []
    },
    {
      "cell_type": "markdown",
      "source": [
        "Prepare Station Metadata (Optional)\n",
        "\n",
        "If you have additional metadata for the stations, such as area and geographical coordinates, you can prepare a DataFrame for it. This step is optional."
      ],
      "metadata": {
        "id": "dKuzD3VhB5HD"
      }
    },
    {
      "cell_type": "code",
      "source": [
        "df_sta = pd.DataFrame({\n",
        "    'station_id': station_ids,\n",
        "    'area': [100, 150, 200],  # Example areas in km^2\n",
        "    'lon': [-100.0, -101.0, -102.0],  # Example longitudes\n",
        "    'lat': [40.0, 41.0, 42.0]  # Example latitudes\n",
        "}).set_index('station_id')\n"
      ],
      "metadata": {
        "id": "NTOkXLBxB8r3"
      },
      "execution_count": null,
      "outputs": []
    },
    {
      "cell_type": "markdown",
      "source": [
        "Now, we will use the multi_stations function to perform baseflow separation on the fetched data."
      ],
      "metadata": {
        "id": "O3j_gSM7CEDT"
      }
    },
    {
      "cell_type": "code",
      "source": [
        "# Define the methods to use for baseflow separation\n",
        "methods = ['lh', 'fixed', 'furey']  # Example methods\n",
        "\n",
        "# Perform baseflow separation\n",
        "dfs, df_bfi, df_kge = multi_station(df, df_sta=df_sta, method=methods, return_bfi=True, return_kge=True)\n",
        "\n",
        "# Display the results\n",
        "print(\"Baseflow Separation Results:\")\n",
        "for method, result_df in dfs.items():\n",
        "    print(f\"\\nMethod: {method}\")\n",
        "    print(result_df.head())\n",
        "\n",
        "print(\"\\nBaseflow Index (BFI):\")\n",
        "print(df_bfi)\n",
        "\n",
        "print(\"\\nKling-Gupta Efficiency (KGE):\")\n",
        "print(df_kge)\n",
        "`\n"
      ],
      "metadata": {
        "id": "qM103j43CG8_"
      },
      "execution_count": null,
      "outputs": []
    },
    {
      "cell_type": "markdown",
      "source": [
        "\n",
        "You can visualize the separated baseflow components using popular Python libraries such as Matplotlib."
      ],
      "metadata": {
        "id": "O_9zKPzUCIoO"
      }
    },
    {
      "cell_type": "code",
      "source": [
        "import matplotlib.pyplot as plt\n",
        "\n",
        "# Plot the original streamflow and separated baseflow for one station and one method\n",
        "station_id = 'station_1'\n",
        "method = 'lh'\n",
        "\n",
        "plt.figure(figsize=(12, 6))\n",
        "plt.plot(df.index, df[station_id], label='Original Streamflow')\n",
        "plt.plot(dfs[method].index, dfs[method][station_id], label='Separated Baseflow')\n",
        "plt.xlabel('Date')\n",
        "plt.ylabel('Streamflow (cfs)')\n",
        "plt.title(f'Baseflow Separation for {station_id} using {method} Method')\n",
        "plt.legend()\n",
        "plt.show()\n"
      ],
      "metadata": {
        "id": "t18x-mo0CLH7"
      },
      "execution_count": null,
      "outputs": []
    }
  ]
}